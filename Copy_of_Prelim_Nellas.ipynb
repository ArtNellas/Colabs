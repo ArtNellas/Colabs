{
  "nbformat": 4,
  "nbformat_minor": 0,
  "metadata": {
    "colab": {
      "provenance": [],
      "collapsed_sections": [
        "XSlCQaWwWYjZ",
        "nR-stCx2YUme",
        "3vGIvrX0YZR9",
        "vlICW_C7cB5C",
        "l0U6C0dxWUfx",
        "CJfzC_gaXSXt",
        "ZUuY0IQZYwq1",
        "9vVSFHtLZBgG"
      ],
      "include_colab_link": true
    },
    "kernelspec": {
      "name": "python3",
      "display_name": "Python 3"
    },
    "language_info": {
      "name": "python"
    }
  },
  "cells": [
    {
      "cell_type": "markdown",
      "metadata": {
        "id": "view-in-github",
        "colab_type": "text"
      },
      "source": [
        "<a href=\"https://colab.research.google.com/github/ArtNellas/Colabs/blob/main/Copy_of_Prelim_Nellas.ipynb\" target=\"_parent\"><img src=\"https://colab.research.google.com/assets/colab-badge.svg\" alt=\"Open In Colab\"/></a>"
      ]
    },
    {
      "cell_type": "markdown",
      "source": [
        "#Prelims(Run all codes)"
      ],
      "metadata": {
        "id": "XSlCQaWwWYjZ"
      }
    },
    {
      "cell_type": "markdown",
      "source": [
        "##Preliminaries"
      ],
      "metadata": {
        "id": "nR-stCx2YUme"
      }
    },
    {
      "cell_type": "code",
      "source": [
        "from google.colab import drive\n",
        "drive.mount('/content/drive')"
      ],
      "metadata": {
        "colab": {
          "base_uri": "https://localhost:8080/"
        },
        "id": "-Z1mbBbuQNfL",
        "outputId": "cd93a32b-8990-47ff-ab50-480433fadfc8"
      },
      "execution_count": null,
      "outputs": [
        {
          "output_type": "stream",
          "name": "stdout",
          "text": [
            "Mounted at /content/drive\n"
          ]
        }
      ]
    },
    {
      "cell_type": "code",
      "source": [
        "import numpy as np\n",
        "import pandas as pd\n",
        "from IPython.display import display\n",
        "from sklearn.datasets import load_iris\n",
        "from sklearn.model_selection import train_test_split\n",
        "from sklearn.preprocessing import StandardScaler\n",
        "from sklearn.neighbors import KNeighborsClassifier\n",
        "from sklearn.metrics import accuracy_score, classification_report, confusion_matrix\n",
        "import seaborn as sns\n",
        "import matplotlib.pyplot as plt\n",
        "from sklearn.ensemble import RandomForestClassifier"
      ],
      "metadata": {
        "id": "zi8GYUHAQggc"
      },
      "execution_count": null,
      "outputs": []
    },
    {
      "cell_type": "markdown",
      "source": [
        "##Loading and Cleaning the Dataset"
      ],
      "metadata": {
        "id": "3vGIvrX0YZR9"
      }
    },
    {
      "cell_type": "code",
      "source": [
        "df = pd.read_csv(\"/content/drive/MyDrive/Colab Notebooks/Prelims_Nellas/tiktok_dataset.csv\")\n",
        "display(df)"
      ],
      "metadata": {
        "colab": {
          "base_uri": "https://localhost:8080/",
          "height": 530
        },
        "id": "v9QaMRsUQxhI",
        "outputId": "a227afcb-b652-4d7c-dec0-63fea7f2602b"
      },
      "execution_count": null,
      "outputs": [
        {
          "output_type": "display_data",
          "data": {
            "text/plain": [
              "           # claim_status    video_id  video_duration_sec  \\\n",
              "0          1        claim  7017666017                  59   \n",
              "1          2        claim  4014381136                  32   \n",
              "2          3        claim  9859838091                  31   \n",
              "3          4        claim  1866847991                  25   \n",
              "4          5        claim  7105231098                  19   \n",
              "...      ...          ...         ...                 ...   \n",
              "19377  19378          NaN  7578226840                  21   \n",
              "19378  19379          NaN  6079236179                  53   \n",
              "19379  19380          NaN  2565539685                  10   \n",
              "19380  19381          NaN  2969178540                  24   \n",
              "19381  19382          NaN  8132759688                  13   \n",
              "\n",
              "                                video_transcription_text verified_status  \\\n",
              "0      someone shared with me that drone deliveries a...    not verified   \n",
              "1      someone shared with me that there are more mic...    not verified   \n",
              "2      someone shared with me that american industria...    not verified   \n",
              "3      someone shared with me that the metro of st. p...    not verified   \n",
              "4      someone shared with me that the number of busi...    not verified   \n",
              "...                                                  ...             ...   \n",
              "19377                                                NaN    not verified   \n",
              "19378                                                NaN    not verified   \n",
              "19379                                                NaN        verified   \n",
              "19380                                                NaN    not verified   \n",
              "19381                                                NaN    not verified   \n",
              "\n",
              "      author_ban_status  video_view_count  video_like_count  \\\n",
              "0          under review          343296.0           19425.0   \n",
              "1                active          140877.0           77355.0   \n",
              "2                active          902185.0           97690.0   \n",
              "3                active          437506.0          239954.0   \n",
              "4                active           56167.0           34987.0   \n",
              "...                 ...               ...               ...   \n",
              "19377            active               NaN               NaN   \n",
              "19378            active               NaN               NaN   \n",
              "19379      under review               NaN               NaN   \n",
              "19380            active               NaN               NaN   \n",
              "19381            active               NaN               NaN   \n",
              "\n",
              "       video_share_count  video_download_count  video_comment_count  \n",
              "0                  241.0                   1.0                  0.0  \n",
              "1                19034.0                1161.0                684.0  \n",
              "2                 2858.0                 833.0                329.0  \n",
              "3                34812.0                1234.0                584.0  \n",
              "4                 4110.0                 547.0                152.0  \n",
              "...                  ...                   ...                  ...  \n",
              "19377                NaN                   NaN                  NaN  \n",
              "19378                NaN                   NaN                  NaN  \n",
              "19379                NaN                   NaN                  NaN  \n",
              "19380                NaN                   NaN                  NaN  \n",
              "19381                NaN                   NaN                  NaN  \n",
              "\n",
              "[19382 rows x 12 columns]"
            ],
            "text/html": [
              "\n",
              "  <div id=\"df-beb89356-db94-4a8f-81f7-7d43bf8c7f30\" class=\"colab-df-container\">\n",
              "    <div>\n",
              "<style scoped>\n",
              "    .dataframe tbody tr th:only-of-type {\n",
              "        vertical-align: middle;\n",
              "    }\n",
              "\n",
              "    .dataframe tbody tr th {\n",
              "        vertical-align: top;\n",
              "    }\n",
              "\n",
              "    .dataframe thead th {\n",
              "        text-align: right;\n",
              "    }\n",
              "</style>\n",
              "<table border=\"1\" class=\"dataframe\">\n",
              "  <thead>\n",
              "    <tr style=\"text-align: right;\">\n",
              "      <th></th>\n",
              "      <th>#</th>\n",
              "      <th>claim_status</th>\n",
              "      <th>video_id</th>\n",
              "      <th>video_duration_sec</th>\n",
              "      <th>video_transcription_text</th>\n",
              "      <th>verified_status</th>\n",
              "      <th>author_ban_status</th>\n",
              "      <th>video_view_count</th>\n",
              "      <th>video_like_count</th>\n",
              "      <th>video_share_count</th>\n",
              "      <th>video_download_count</th>\n",
              "      <th>video_comment_count</th>\n",
              "    </tr>\n",
              "  </thead>\n",
              "  <tbody>\n",
              "    <tr>\n",
              "      <th>0</th>\n",
              "      <td>1</td>\n",
              "      <td>claim</td>\n",
              "      <td>7017666017</td>\n",
              "      <td>59</td>\n",
              "      <td>someone shared with me that drone deliveries a...</td>\n",
              "      <td>not verified</td>\n",
              "      <td>under review</td>\n",
              "      <td>343296.0</td>\n",
              "      <td>19425.0</td>\n",
              "      <td>241.0</td>\n",
              "      <td>1.0</td>\n",
              "      <td>0.0</td>\n",
              "    </tr>\n",
              "    <tr>\n",
              "      <th>1</th>\n",
              "      <td>2</td>\n",
              "      <td>claim</td>\n",
              "      <td>4014381136</td>\n",
              "      <td>32</td>\n",
              "      <td>someone shared with me that there are more mic...</td>\n",
              "      <td>not verified</td>\n",
              "      <td>active</td>\n",
              "      <td>140877.0</td>\n",
              "      <td>77355.0</td>\n",
              "      <td>19034.0</td>\n",
              "      <td>1161.0</td>\n",
              "      <td>684.0</td>\n",
              "    </tr>\n",
              "    <tr>\n",
              "      <th>2</th>\n",
              "      <td>3</td>\n",
              "      <td>claim</td>\n",
              "      <td>9859838091</td>\n",
              "      <td>31</td>\n",
              "      <td>someone shared with me that american industria...</td>\n",
              "      <td>not verified</td>\n",
              "      <td>active</td>\n",
              "      <td>902185.0</td>\n",
              "      <td>97690.0</td>\n",
              "      <td>2858.0</td>\n",
              "      <td>833.0</td>\n",
              "      <td>329.0</td>\n",
              "    </tr>\n",
              "    <tr>\n",
              "      <th>3</th>\n",
              "      <td>4</td>\n",
              "      <td>claim</td>\n",
              "      <td>1866847991</td>\n",
              "      <td>25</td>\n",
              "      <td>someone shared with me that the metro of st. p...</td>\n",
              "      <td>not verified</td>\n",
              "      <td>active</td>\n",
              "      <td>437506.0</td>\n",
              "      <td>239954.0</td>\n",
              "      <td>34812.0</td>\n",
              "      <td>1234.0</td>\n",
              "      <td>584.0</td>\n",
              "    </tr>\n",
              "    <tr>\n",
              "      <th>4</th>\n",
              "      <td>5</td>\n",
              "      <td>claim</td>\n",
              "      <td>7105231098</td>\n",
              "      <td>19</td>\n",
              "      <td>someone shared with me that the number of busi...</td>\n",
              "      <td>not verified</td>\n",
              "      <td>active</td>\n",
              "      <td>56167.0</td>\n",
              "      <td>34987.0</td>\n",
              "      <td>4110.0</td>\n",
              "      <td>547.0</td>\n",
              "      <td>152.0</td>\n",
              "    </tr>\n",
              "    <tr>\n",
              "      <th>...</th>\n",
              "      <td>...</td>\n",
              "      <td>...</td>\n",
              "      <td>...</td>\n",
              "      <td>...</td>\n",
              "      <td>...</td>\n",
              "      <td>...</td>\n",
              "      <td>...</td>\n",
              "      <td>...</td>\n",
              "      <td>...</td>\n",
              "      <td>...</td>\n",
              "      <td>...</td>\n",
              "      <td>...</td>\n",
              "    </tr>\n",
              "    <tr>\n",
              "      <th>19377</th>\n",
              "      <td>19378</td>\n",
              "      <td>NaN</td>\n",
              "      <td>7578226840</td>\n",
              "      <td>21</td>\n",
              "      <td>NaN</td>\n",
              "      <td>not verified</td>\n",
              "      <td>active</td>\n",
              "      <td>NaN</td>\n",
              "      <td>NaN</td>\n",
              "      <td>NaN</td>\n",
              "      <td>NaN</td>\n",
              "      <td>NaN</td>\n",
              "    </tr>\n",
              "    <tr>\n",
              "      <th>19378</th>\n",
              "      <td>19379</td>\n",
              "      <td>NaN</td>\n",
              "      <td>6079236179</td>\n",
              "      <td>53</td>\n",
              "      <td>NaN</td>\n",
              "      <td>not verified</td>\n",
              "      <td>active</td>\n",
              "      <td>NaN</td>\n",
              "      <td>NaN</td>\n",
              "      <td>NaN</td>\n",
              "      <td>NaN</td>\n",
              "      <td>NaN</td>\n",
              "    </tr>\n",
              "    <tr>\n",
              "      <th>19379</th>\n",
              "      <td>19380</td>\n",
              "      <td>NaN</td>\n",
              "      <td>2565539685</td>\n",
              "      <td>10</td>\n",
              "      <td>NaN</td>\n",
              "      <td>verified</td>\n",
              "      <td>under review</td>\n",
              "      <td>NaN</td>\n",
              "      <td>NaN</td>\n",
              "      <td>NaN</td>\n",
              "      <td>NaN</td>\n",
              "      <td>NaN</td>\n",
              "    </tr>\n",
              "    <tr>\n",
              "      <th>19380</th>\n",
              "      <td>19381</td>\n",
              "      <td>NaN</td>\n",
              "      <td>2969178540</td>\n",
              "      <td>24</td>\n",
              "      <td>NaN</td>\n",
              "      <td>not verified</td>\n",
              "      <td>active</td>\n",
              "      <td>NaN</td>\n",
              "      <td>NaN</td>\n",
              "      <td>NaN</td>\n",
              "      <td>NaN</td>\n",
              "      <td>NaN</td>\n",
              "    </tr>\n",
              "    <tr>\n",
              "      <th>19381</th>\n",
              "      <td>19382</td>\n",
              "      <td>NaN</td>\n",
              "      <td>8132759688</td>\n",
              "      <td>13</td>\n",
              "      <td>NaN</td>\n",
              "      <td>not verified</td>\n",
              "      <td>active</td>\n",
              "      <td>NaN</td>\n",
              "      <td>NaN</td>\n",
              "      <td>NaN</td>\n",
              "      <td>NaN</td>\n",
              "      <td>NaN</td>\n",
              "    </tr>\n",
              "  </tbody>\n",
              "</table>\n",
              "<p>19382 rows × 12 columns</p>\n",
              "</div>\n",
              "    <div class=\"colab-df-buttons\">\n",
              "\n",
              "  <div class=\"colab-df-container\">\n",
              "    <button class=\"colab-df-convert\" onclick=\"convertToInteractive('df-beb89356-db94-4a8f-81f7-7d43bf8c7f30')\"\n",
              "            title=\"Convert this dataframe to an interactive table.\"\n",
              "            style=\"display:none;\">\n",
              "\n",
              "  <svg xmlns=\"http://www.w3.org/2000/svg\" height=\"24px\" viewBox=\"0 -960 960 960\">\n",
              "    <path d=\"M120-120v-720h720v720H120Zm60-500h600v-160H180v160Zm220 220h160v-160H400v160Zm0 220h160v-160H400v160ZM180-400h160v-160H180v160Zm440 0h160v-160H620v160ZM180-180h160v-160H180v160Zm440 0h160v-160H620v160Z\"/>\n",
              "  </svg>\n",
              "    </button>\n",
              "\n",
              "  <style>\n",
              "    .colab-df-container {\n",
              "      display:flex;\n",
              "      gap: 12px;\n",
              "    }\n",
              "\n",
              "    .colab-df-convert {\n",
              "      background-color: #E8F0FE;\n",
              "      border: none;\n",
              "      border-radius: 50%;\n",
              "      cursor: pointer;\n",
              "      display: none;\n",
              "      fill: #1967D2;\n",
              "      height: 32px;\n",
              "      padding: 0 0 0 0;\n",
              "      width: 32px;\n",
              "    }\n",
              "\n",
              "    .colab-df-convert:hover {\n",
              "      background-color: #E2EBFA;\n",
              "      box-shadow: 0px 1px 2px rgba(60, 64, 67, 0.3), 0px 1px 3px 1px rgba(60, 64, 67, 0.15);\n",
              "      fill: #174EA6;\n",
              "    }\n",
              "\n",
              "    .colab-df-buttons div {\n",
              "      margin-bottom: 4px;\n",
              "    }\n",
              "\n",
              "    [theme=dark] .colab-df-convert {\n",
              "      background-color: #3B4455;\n",
              "      fill: #D2E3FC;\n",
              "    }\n",
              "\n",
              "    [theme=dark] .colab-df-convert:hover {\n",
              "      background-color: #434B5C;\n",
              "      box-shadow: 0px 1px 3px 1px rgba(0, 0, 0, 0.15);\n",
              "      filter: drop-shadow(0px 1px 2px rgba(0, 0, 0, 0.3));\n",
              "      fill: #FFFFFF;\n",
              "    }\n",
              "  </style>\n",
              "\n",
              "    <script>\n",
              "      const buttonEl =\n",
              "        document.querySelector('#df-beb89356-db94-4a8f-81f7-7d43bf8c7f30 button.colab-df-convert');\n",
              "      buttonEl.style.display =\n",
              "        google.colab.kernel.accessAllowed ? 'block' : 'none';\n",
              "\n",
              "      async function convertToInteractive(key) {\n",
              "        const element = document.querySelector('#df-beb89356-db94-4a8f-81f7-7d43bf8c7f30');\n",
              "        const dataTable =\n",
              "          await google.colab.kernel.invokeFunction('convertToInteractive',\n",
              "                                                    [key], {});\n",
              "        if (!dataTable) return;\n",
              "\n",
              "        const docLinkHtml = 'Like what you see? Visit the ' +\n",
              "          '<a target=\"_blank\" href=https://colab.research.google.com/notebooks/data_table.ipynb>data table notebook</a>'\n",
              "          + ' to learn more about interactive tables.';\n",
              "        element.innerHTML = '';\n",
              "        dataTable['output_type'] = 'display_data';\n",
              "        await google.colab.output.renderOutput(dataTable, element);\n",
              "        const docLink = document.createElement('div');\n",
              "        docLink.innerHTML = docLinkHtml;\n",
              "        element.appendChild(docLink);\n",
              "      }\n",
              "    </script>\n",
              "  </div>\n",
              "\n",
              "\n",
              "<div id=\"df-c405492b-78b0-4065-8a81-70b67c81cbb5\">\n",
              "  <button class=\"colab-df-quickchart\" onclick=\"quickchart('df-c405492b-78b0-4065-8a81-70b67c81cbb5')\"\n",
              "            title=\"Suggest charts\"\n",
              "            style=\"display:none;\">\n",
              "\n",
              "<svg xmlns=\"http://www.w3.org/2000/svg\" height=\"24px\"viewBox=\"0 0 24 24\"\n",
              "     width=\"24px\">\n",
              "    <g>\n",
              "        <path d=\"M19 3H5c-1.1 0-2 .9-2 2v14c0 1.1.9 2 2 2h14c1.1 0 2-.9 2-2V5c0-1.1-.9-2-2-2zM9 17H7v-7h2v7zm4 0h-2V7h2v10zm4 0h-2v-4h2v4z\"/>\n",
              "    </g>\n",
              "</svg>\n",
              "  </button>\n",
              "\n",
              "<style>\n",
              "  .colab-df-quickchart {\n",
              "      --bg-color: #E8F0FE;\n",
              "      --fill-color: #1967D2;\n",
              "      --hover-bg-color: #E2EBFA;\n",
              "      --hover-fill-color: #174EA6;\n",
              "      --disabled-fill-color: #AAA;\n",
              "      --disabled-bg-color: #DDD;\n",
              "  }\n",
              "\n",
              "  [theme=dark] .colab-df-quickchart {\n",
              "      --bg-color: #3B4455;\n",
              "      --fill-color: #D2E3FC;\n",
              "      --hover-bg-color: #434B5C;\n",
              "      --hover-fill-color: #FFFFFF;\n",
              "      --disabled-bg-color: #3B4455;\n",
              "      --disabled-fill-color: #666;\n",
              "  }\n",
              "\n",
              "  .colab-df-quickchart {\n",
              "    background-color: var(--bg-color);\n",
              "    border: none;\n",
              "    border-radius: 50%;\n",
              "    cursor: pointer;\n",
              "    display: none;\n",
              "    fill: var(--fill-color);\n",
              "    height: 32px;\n",
              "    padding: 0;\n",
              "    width: 32px;\n",
              "  }\n",
              "\n",
              "  .colab-df-quickchart:hover {\n",
              "    background-color: var(--hover-bg-color);\n",
              "    box-shadow: 0 1px 2px rgba(60, 64, 67, 0.3), 0 1px 3px 1px rgba(60, 64, 67, 0.15);\n",
              "    fill: var(--button-hover-fill-color);\n",
              "  }\n",
              "\n",
              "  .colab-df-quickchart-complete:disabled,\n",
              "  .colab-df-quickchart-complete:disabled:hover {\n",
              "    background-color: var(--disabled-bg-color);\n",
              "    fill: var(--disabled-fill-color);\n",
              "    box-shadow: none;\n",
              "  }\n",
              "\n",
              "  .colab-df-spinner {\n",
              "    border: 2px solid var(--fill-color);\n",
              "    border-color: transparent;\n",
              "    border-bottom-color: var(--fill-color);\n",
              "    animation:\n",
              "      spin 1s steps(1) infinite;\n",
              "  }\n",
              "\n",
              "  @keyframes spin {\n",
              "    0% {\n",
              "      border-color: transparent;\n",
              "      border-bottom-color: var(--fill-color);\n",
              "      border-left-color: var(--fill-color);\n",
              "    }\n",
              "    20% {\n",
              "      border-color: transparent;\n",
              "      border-left-color: var(--fill-color);\n",
              "      border-top-color: var(--fill-color);\n",
              "    }\n",
              "    30% {\n",
              "      border-color: transparent;\n",
              "      border-left-color: var(--fill-color);\n",
              "      border-top-color: var(--fill-color);\n",
              "      border-right-color: var(--fill-color);\n",
              "    }\n",
              "    40% {\n",
              "      border-color: transparent;\n",
              "      border-right-color: var(--fill-color);\n",
              "      border-top-color: var(--fill-color);\n",
              "    }\n",
              "    60% {\n",
              "      border-color: transparent;\n",
              "      border-right-color: var(--fill-color);\n",
              "    }\n",
              "    80% {\n",
              "      border-color: transparent;\n",
              "      border-right-color: var(--fill-color);\n",
              "      border-bottom-color: var(--fill-color);\n",
              "    }\n",
              "    90% {\n",
              "      border-color: transparent;\n",
              "      border-bottom-color: var(--fill-color);\n",
              "    }\n",
              "  }\n",
              "</style>\n",
              "\n",
              "  <script>\n",
              "    async function quickchart(key) {\n",
              "      const quickchartButtonEl =\n",
              "        document.querySelector('#' + key + ' button');\n",
              "      quickchartButtonEl.disabled = true;  // To prevent multiple clicks.\n",
              "      quickchartButtonEl.classList.add('colab-df-spinner');\n",
              "      try {\n",
              "        const charts = await google.colab.kernel.invokeFunction(\n",
              "            'suggestCharts', [key], {});\n",
              "      } catch (error) {\n",
              "        console.error('Error during call to suggestCharts:', error);\n",
              "      }\n",
              "      quickchartButtonEl.classList.remove('colab-df-spinner');\n",
              "      quickchartButtonEl.classList.add('colab-df-quickchart-complete');\n",
              "    }\n",
              "    (() => {\n",
              "      let quickchartButtonEl =\n",
              "        document.querySelector('#df-c405492b-78b0-4065-8a81-70b67c81cbb5 button');\n",
              "      quickchartButtonEl.style.display =\n",
              "        google.colab.kernel.accessAllowed ? 'block' : 'none';\n",
              "    })();\n",
              "  </script>\n",
              "</div>\n",
              "\n",
              "  <div id=\"id_b970b6b7-56b2-43c0-a1af-2ea2a8049a46\">\n",
              "    <style>\n",
              "      .colab-df-generate {\n",
              "        background-color: #E8F0FE;\n",
              "        border: none;\n",
              "        border-radius: 50%;\n",
              "        cursor: pointer;\n",
              "        display: none;\n",
              "        fill: #1967D2;\n",
              "        height: 32px;\n",
              "        padding: 0 0 0 0;\n",
              "        width: 32px;\n",
              "      }\n",
              "\n",
              "      .colab-df-generate:hover {\n",
              "        background-color: #E2EBFA;\n",
              "        box-shadow: 0px 1px 2px rgba(60, 64, 67, 0.3), 0px 1px 3px 1px rgba(60, 64, 67, 0.15);\n",
              "        fill: #174EA6;\n",
              "      }\n",
              "\n",
              "      [theme=dark] .colab-df-generate {\n",
              "        background-color: #3B4455;\n",
              "        fill: #D2E3FC;\n",
              "      }\n",
              "\n",
              "      [theme=dark] .colab-df-generate:hover {\n",
              "        background-color: #434B5C;\n",
              "        box-shadow: 0px 1px 3px 1px rgba(0, 0, 0, 0.15);\n",
              "        filter: drop-shadow(0px 1px 2px rgba(0, 0, 0, 0.3));\n",
              "        fill: #FFFFFF;\n",
              "      }\n",
              "    </style>\n",
              "    <button class=\"colab-df-generate\" onclick=\"generateWithVariable('df')\"\n",
              "            title=\"Generate code using this dataframe.\"\n",
              "            style=\"display:none;\">\n",
              "\n",
              "  <svg xmlns=\"http://www.w3.org/2000/svg\" height=\"24px\"viewBox=\"0 0 24 24\"\n",
              "       width=\"24px\">\n",
              "    <path d=\"M7,19H8.4L18.45,9,17,7.55,7,17.6ZM5,21V16.75L18.45,3.32a2,2,0,0,1,2.83,0l1.4,1.43a1.91,1.91,0,0,1,.58,1.4,1.91,1.91,0,0,1-.58,1.4L9.25,21ZM18.45,9,17,7.55Zm-12,3A5.31,5.31,0,0,0,4.9,8.1,5.31,5.31,0,0,0,1,6.5,5.31,5.31,0,0,0,4.9,4.9,5.31,5.31,0,0,0,6.5,1,5.31,5.31,0,0,0,8.1,4.9,5.31,5.31,0,0,0,12,6.5,5.46,5.46,0,0,0,6.5,12Z\"/>\n",
              "  </svg>\n",
              "    </button>\n",
              "    <script>\n",
              "      (() => {\n",
              "      const buttonEl =\n",
              "        document.querySelector('#id_b970b6b7-56b2-43c0-a1af-2ea2a8049a46 button.colab-df-generate');\n",
              "      buttonEl.style.display =\n",
              "        google.colab.kernel.accessAllowed ? 'block' : 'none';\n",
              "\n",
              "      buttonEl.onclick = () => {\n",
              "        google.colab.notebook.generateWithVariable('df');\n",
              "      }\n",
              "      })();\n",
              "    </script>\n",
              "  </div>\n",
              "\n",
              "    </div>\n",
              "  </div>\n"
            ],
            "application/vnd.google.colaboratory.intrinsic+json": {
              "type": "dataframe",
              "variable_name": "df",
              "summary": "{\n  \"name\": \"df\",\n  \"rows\": 19382,\n  \"fields\": [\n    {\n      \"column\": \"#\",\n      \"properties\": {\n        \"dtype\": \"number\",\n        \"std\": 5595,\n        \"min\": 1,\n        \"max\": 19382,\n        \"num_unique_values\": 19382,\n        \"samples\": [\n          10258,\n          14276,\n          17664\n        ],\n        \"semantic_type\": \"\",\n        \"description\": \"\"\n      }\n    },\n    {\n      \"column\": \"claim_status\",\n      \"properties\": {\n        \"dtype\": \"category\",\n        \"num_unique_values\": 2,\n        \"samples\": [\n          \"opinion\",\n          \"claim\"\n        ],\n        \"semantic_type\": \"\",\n        \"description\": \"\"\n      }\n    },\n    {\n      \"column\": \"video_id\",\n      \"properties\": {\n        \"dtype\": \"number\",\n        \"std\": 2536440464,\n        \"min\": 1234959018,\n        \"max\": 9999873075,\n        \"num_unique_values\": 19382,\n        \"samples\": [\n          5096907149,\n          4828424088\n        ],\n        \"semantic_type\": \"\",\n        \"description\": \"\"\n      }\n    },\n    {\n      \"column\": \"video_duration_sec\",\n      \"properties\": {\n        \"dtype\": \"number\",\n        \"std\": 16,\n        \"min\": 5,\n        \"max\": 60,\n        \"num_unique_values\": 56,\n        \"samples\": [\n          59,\n          35\n        ],\n        \"semantic_type\": \"\",\n        \"description\": \"\"\n      }\n    },\n    {\n      \"column\": \"video_transcription_text\",\n      \"properties\": {\n        \"dtype\": \"string\",\n        \"num_unique_values\": 19012,\n        \"samples\": [\n          \"my hypothesis is that bubble wrap was originally designed to be used as wallpaper\",\n          \"my friends feel that the metro of st. petersburg, with an average depth of hundred meters, is the deepest metro in the world\"\n        ],\n        \"semantic_type\": \"\",\n        \"description\": \"\"\n      }\n    },\n    {\n      \"column\": \"verified_status\",\n      \"properties\": {\n        \"dtype\": \"category\",\n        \"num_unique_values\": 2,\n        \"samples\": [\n          \"verified\",\n          \"not verified\"\n        ],\n        \"semantic_type\": \"\",\n        \"description\": \"\"\n      }\n    },\n    {\n      \"column\": \"author_ban_status\",\n      \"properties\": {\n        \"dtype\": \"category\",\n        \"num_unique_values\": 3,\n        \"samples\": [\n          \"under review\",\n          \"active\"\n        ],\n        \"semantic_type\": \"\",\n        \"description\": \"\"\n      }\n    },\n    {\n      \"column\": \"video_view_count\",\n      \"properties\": {\n        \"dtype\": \"number\",\n        \"std\": 322893.2808137871,\n        \"min\": 20.0,\n        \"max\": 999817.0,\n        \"num_unique_values\": 15632,\n        \"samples\": [\n          958147.0,\n          649312.0\n        ],\n        \"semantic_type\": \"\",\n        \"description\": \"\"\n      }\n    },\n    {\n      \"column\": \"video_like_count\",\n      \"properties\": {\n        \"dtype\": \"number\",\n        \"std\": 133420.54681367226,\n        \"min\": 0.0,\n        \"max\": 657830.0,\n        \"num_unique_values\": 12224,\n        \"samples\": [\n          130738.0,\n          1252.0\n        ],\n        \"semantic_type\": \"\",\n        \"description\": \"\"\n      }\n    },\n    {\n      \"column\": \"video_share_count\",\n      \"properties\": {\n        \"dtype\": \"number\",\n        \"std\": 32036.174350150646,\n        \"min\": 0.0,\n        \"max\": 256130.0,\n        \"num_unique_values\": 9231,\n        \"samples\": [\n          95100.0,\n          24963.0\n        ],\n        \"semantic_type\": \"\",\n        \"description\": \"\"\n      }\n    },\n    {\n      \"column\": \"video_download_count\",\n      \"properties\": {\n        \"dtype\": \"number\",\n        \"std\": 2004.2998939791726,\n        \"min\": 0.0,\n        \"max\": 14994.0,\n        \"num_unique_values\": 4336,\n        \"samples\": [\n          1046.0,\n          1446.0\n        ],\n        \"semantic_type\": \"\",\n        \"description\": \"\"\n      }\n    },\n    {\n      \"column\": \"video_comment_count\",\n      \"properties\": {\n        \"dtype\": \"number\",\n        \"std\": 799.6388647869026,\n        \"min\": 0.0,\n        \"max\": 9599.0,\n        \"num_unique_values\": 2424,\n        \"samples\": [\n          1171.0,\n          1308.0\n        ],\n        \"semantic_type\": \"\",\n        \"description\": \"\"\n      }\n    }\n  ]\n}"
            }
          },
          "metadata": {}
        }
      ]
    },
    {
      "cell_type": "code",
      "source": [
        "df.info()"
      ],
      "metadata": {
        "colab": {
          "base_uri": "https://localhost:8080/"
        },
        "id": "9BQFLClKQ73c",
        "outputId": "4f7b04e6-03e0-4fec-e537-3b60d423236c"
      },
      "execution_count": null,
      "outputs": [
        {
          "output_type": "stream",
          "name": "stdout",
          "text": [
            "<class 'pandas.core.frame.DataFrame'>\n",
            "RangeIndex: 19382 entries, 0 to 19381\n",
            "Data columns (total 12 columns):\n",
            " #   Column                    Non-Null Count  Dtype  \n",
            "---  ------                    --------------  -----  \n",
            " 0   #                         19382 non-null  int64  \n",
            " 1   claim_status              19084 non-null  object \n",
            " 2   video_id                  19382 non-null  int64  \n",
            " 3   video_duration_sec        19382 non-null  int64  \n",
            " 4   video_transcription_text  19084 non-null  object \n",
            " 5   verified_status           19382 non-null  object \n",
            " 6   author_ban_status         19382 non-null  object \n",
            " 7   video_view_count          19084 non-null  float64\n",
            " 8   video_like_count          19084 non-null  float64\n",
            " 9   video_share_count         19084 non-null  float64\n",
            " 10  video_download_count      19084 non-null  float64\n",
            " 11  video_comment_count       19084 non-null  float64\n",
            "dtypes: float64(5), int64(3), object(4)\n",
            "memory usage: 1.8+ MB\n"
          ]
        }
      ]
    },
    {
      "cell_type": "code",
      "source": [
        "df.drop(['video_id', 'video_transcription_text'], axis = 1, inplace = True)"
      ],
      "metadata": {
        "id": "A3-dzVsBRiKp"
      },
      "execution_count": null,
      "outputs": []
    },
    {
      "cell_type": "code",
      "source": [
        "df.info()"
      ],
      "metadata": {
        "colab": {
          "base_uri": "https://localhost:8080/"
        },
        "id": "-5sh-lgYSCuh",
        "outputId": "200d7475-e600-420d-e48e-bf9891e469b0"
      },
      "execution_count": null,
      "outputs": [
        {
          "output_type": "stream",
          "name": "stdout",
          "text": [
            "<class 'pandas.core.frame.DataFrame'>\n",
            "RangeIndex: 19382 entries, 0 to 19381\n",
            "Data columns (total 10 columns):\n",
            " #   Column                Non-Null Count  Dtype  \n",
            "---  ------                --------------  -----  \n",
            " 0   #                     19382 non-null  int64  \n",
            " 1   claim_status          19084 non-null  object \n",
            " 2   video_duration_sec    19382 non-null  int64  \n",
            " 3   verified_status       19382 non-null  object \n",
            " 4   author_ban_status     19382 non-null  object \n",
            " 5   video_view_count      19084 non-null  float64\n",
            " 6   video_like_count      19084 non-null  float64\n",
            " 7   video_share_count     19084 non-null  float64\n",
            " 8   video_download_count  19084 non-null  float64\n",
            " 9   video_comment_count   19084 non-null  float64\n",
            "dtypes: float64(5), int64(2), object(3)\n",
            "memory usage: 1.5+ MB\n"
          ]
        }
      ]
    },
    {
      "cell_type": "code",
      "source": [
        "df['video_view_count'].fillna(df['video_view_count'].mean(), inplace = True)\n",
        "df['video_like_count'].fillna(df['video_like_count'].mean(), inplace = True)\n",
        "df['video_share_count'].fillna(df['video_share_count'].mean(), inplace = True)\n",
        "df['video_download_count'].fillna(df['video_download_count'].mean(), inplace = True)\n",
        "df['video_comment_count'].fillna(df['video_comment_count'].mean(), inplace = True)"
      ],
      "metadata": {
        "id": "5UQOit_sSFNv"
      },
      "execution_count": null,
      "outputs": []
    },
    {
      "cell_type": "code",
      "source": [
        "df['claim_status'] = df['claim_status'].map({'opinion':0, 'claim':1})"
      ],
      "metadata": {
        "id": "vvTs-MhqS8Dx"
      },
      "execution_count": null,
      "outputs": []
    },
    {
      "cell_type": "code",
      "source": [
        "df['claim_status'].fillna(df['claim_status'].median(), inplace = True)"
      ],
      "metadata": {
        "id": "bbf8CkTvT9Fu"
      },
      "execution_count": null,
      "outputs": []
    },
    {
      "cell_type": "code",
      "source": [
        "df = pd.get_dummies(df, columns = ['verified_status'], drop_first = True)\n",
        "df = pd.get_dummies(df, columns = ['author_ban_status'], drop_first = True)"
      ],
      "metadata": {
        "id": "JnascuF-V_QC"
      },
      "execution_count": null,
      "outputs": []
    },
    {
      "cell_type": "code",
      "source": [
        "df.info()"
      ],
      "metadata": {
        "colab": {
          "base_uri": "https://localhost:8080/"
        },
        "id": "qlwhVazqTzj5",
        "outputId": "53b5587b-5910-4e8e-f3db-f7884b156d5e"
      },
      "execution_count": null,
      "outputs": [
        {
          "output_type": "stream",
          "name": "stdout",
          "text": [
            "<class 'pandas.core.frame.DataFrame'>\n",
            "RangeIndex: 19382 entries, 0 to 19381\n",
            "Data columns (total 11 columns):\n",
            " #   Column                          Non-Null Count  Dtype  \n",
            "---  ------                          --------------  -----  \n",
            " 0   #                               19382 non-null  int64  \n",
            " 1   claim_status                    19382 non-null  float64\n",
            " 2   video_duration_sec              19382 non-null  int64  \n",
            " 3   video_view_count                19382 non-null  float64\n",
            " 4   video_like_count                19382 non-null  float64\n",
            " 5   video_share_count               19382 non-null  float64\n",
            " 6   video_download_count            19382 non-null  float64\n",
            " 7   video_comment_count             19382 non-null  float64\n",
            " 8   verified_status_verified        19382 non-null  bool   \n",
            " 9   author_ban_status_banned        19382 non-null  bool   \n",
            " 10  author_ban_status_under review  19382 non-null  bool   \n",
            "dtypes: bool(3), float64(6), int64(2)\n",
            "memory usage: 1.2 MB\n"
          ]
        }
      ]
    },
    {
      "cell_type": "markdown",
      "source": [
        "##Training and Testing Prep"
      ],
      "metadata": {
        "id": "vlICW_C7cB5C"
      }
    },
    {
      "cell_type": "code",
      "source": [
        "X = df.drop('claim_status', axis = 1)\n",
        "y= df['claim_status']"
      ],
      "metadata": {
        "id": "G9udVnbZUI45"
      },
      "execution_count": null,
      "outputs": []
    },
    {
      "cell_type": "code",
      "source": [
        "X_train, X_test, y_train, y_test = train_test_split(X, y, test_size=0.2, random_state=30)"
      ],
      "metadata": {
        "id": "yDlPuAxMU4Tx"
      },
      "execution_count": null,
      "outputs": []
    },
    {
      "cell_type": "code",
      "source": [
        "scaler = StandardScaler()\n",
        "X_train = scaler.fit_transform(X_train)\n",
        "X_test = scaler.fit_transform(X_test)"
      ],
      "metadata": {
        "id": "i-AoUKWXU_Yh"
      },
      "execution_count": null,
      "outputs": []
    },
    {
      "cell_type": "markdown",
      "source": [
        "##KNN"
      ],
      "metadata": {
        "id": "l0U6C0dxWUfx"
      }
    },
    {
      "cell_type": "code",
      "source": [
        "knn = KNeighborsClassifier(n_neighbors=5)\n",
        "knn.fit(X_train, y_train)\n",
        "\n",
        "y_pred = knn.predict(X_test)\n",
        "\n",
        "accuracy = accuracy_score(y_test, y_pred)\n",
        "print('Accuracy: ', accuracy)\n",
        "print('Classification Report\\n', classification_report(y_test, y_pred))\n",
        "print('Confusion Matrix\\n', confusion_matrix(y_test, y_pred))"
      ],
      "metadata": {
        "colab": {
          "base_uri": "https://localhost:8080/"
        },
        "id": "rlZTLYgnWTya",
        "outputId": "38877ccc-9400-48fe-904c-8558cee36cf2"
      },
      "execution_count": null,
      "outputs": [
        {
          "output_type": "stream",
          "name": "stdout",
          "text": [
            "Accuracy:  0.9989682744389993\n",
            "Classification Report\n",
            "               precision    recall  f1-score   support\n",
            "\n",
            "         0.0       1.00      1.00      1.00      1924\n",
            "         1.0       1.00      1.00      1.00      1953\n",
            "\n",
            "    accuracy                           1.00      3877\n",
            "   macro avg       1.00      1.00      1.00      3877\n",
            "weighted avg       1.00      1.00      1.00      3877\n",
            "\n",
            "Confusion Matrix\n",
            " [[1924    0]\n",
            " [   4 1949]]\n"
          ]
        }
      ]
    },
    {
      "cell_type": "code",
      "source": [
        "conf_matrix = confusion_matrix(y_test, y_pred)\n",
        "plt.figure(figsize = (8,6))\n",
        "sns.heatmap(conf_matrix, annot = True, fmt = 'd', cmap = 'Purples', xticklabels = ['Opinion', 'Claim'], yticklabels = ['Opinion', 'Claim'])\n",
        "plt.xlabel('Predicted')\n",
        "plt.ylabel('Actual')\n",
        "plt.title('Confusing Matrix')\n",
        "plt.show()"
      ],
      "metadata": {
        "colab": {
          "base_uri": "https://localhost:8080/",
          "height": 564
        },
        "id": "M4Wmnn1fWwvg",
        "outputId": "22df30ba-651d-4d21-9965-85afde1fd51c"
      },
      "execution_count": null,
      "outputs": [
        {
          "output_type": "display_data",
          "data": {
            "text/plain": [
              "<Figure size 800x600 with 2 Axes>"
            ],
            "image/png": "[encoded data removed]"
          },
          "metadata": {}
        }
      ]
    },
    {
      "cell_type": "markdown",
      "source": [
        "##Random Forest"
      ],
      "metadata": {
        "id": "CJfzC_gaXSXt"
      }
    },
    {
      "cell_type": "code",
      "source": [
        "rf = RandomForestClassifier(n_estimators = 100, random_state = 30)\n",
        "rf.fit(X_train, y_train)"
      ],
      "metadata": {
        "colab": {
          "base_uri": "https://localhost:8080/",
          "height": 75
        },
        "id": "emAWm8W9XWZd",
        "outputId": "552034c7-c7be-4e5a-9623-729f6601b820"
      },
      "execution_count": null,
      "outputs": [
        {
          "output_type": "execute_result",
          "data": {
            "text/plain": [
              "RandomForestClassifier(random_state=30)"
            ],
            "text/html": [
              "<style>#sk-container-id-3 {color: black;}#sk-container-id-3 pre{padding: 0;}#sk-container-id-3 div.sk-toggleable {background-color: white;}#sk-container-id-3 label.sk-toggleable__label {cursor: pointer;display: block;width: 100%;margin-bottom: 0;padding: 0.3em;box-sizing: border-box;text-align: center;}#sk-container-id-3 label.sk-toggleable__label-arrow:before {content: \"▸\";float: left;margin-right: 0.25em;color: #696969;}#sk-container-id-3 label.sk-toggleable__label-arrow:hover:before {color: black;}#sk-container-id-3 div.sk-estimator:hover label.sk-toggleable__label-arrow:before {color: black;}#sk-container-id-3 div.sk-toggleable__content {max-height: 0;max-width: 0;overflow: hidden;text-align: left;background-color: #f0f8ff;}#sk-container-id-3 div.sk-toggleable__content pre {margin: 0.2em;color: black;border-radius: 0.25em;background-color: #f0f8ff;}#sk-container-id-3 input.sk-toggleable__control:checked~div.sk-toggleable__content {max-height: 200px;max-width: 100%;overflow: auto;}#sk-container-id-3 input.sk-toggleable__control:checked~label.sk-toggleable__label-arrow:before {content: \"▾\";}#sk-container-id-3 div.sk-estimator input.sk-toggleable__control:checked~label.sk-toggleable__label {background-color: #d4ebff;}#sk-container-id-3 div.sk-label input.sk-toggleable__control:checked~label.sk-toggleable__label {background-color: #d4ebff;}#sk-container-id-3 input.sk-hidden--visually {border: 0;clip: rect(1px 1px 1px 1px);clip: rect(1px, 1px, 1px, 1px);height: 1px;margin: -1px;overflow: hidden;padding: 0;position: absolute;width: 1px;}#sk-container-id-3 div.sk-estimator {font-family: monospace;background-color: #f0f8ff;border: 1px dotted black;border-radius: 0.25em;box-sizing: border-box;margin-bottom: 0.5em;}#sk-container-id-3 div.sk-estimator:hover {background-color: #d4ebff;}#sk-container-id-3 div.sk-parallel-item::after {content: \"\";width: 100%;border-bottom: 1px solid gray;flex-grow: 1;}#sk-container-id-3 div.sk-label:hover label.sk-toggleable__label {background-color: #d4ebff;}#sk-container-id-3 div.sk-serial::before {content: \"\";position: absolute;border-left: 1px solid gray;box-sizing: border-box;top: 0;bottom: 0;left: 50%;z-index: 0;}#sk-container-id-3 div.sk-serial {display: flex;flex-direction: column;align-items: center;background-color: white;padding-right: 0.2em;padding-left: 0.2em;position: relative;}#sk-container-id-3 div.sk-item {position: relative;z-index: 1;}#sk-container-id-3 div.sk-parallel {display: flex;align-items: stretch;justify-content: center;background-color: white;position: relative;}#sk-container-id-3 div.sk-item::before, #sk-container-id-3 div.sk-parallel-item::before {content: \"\";position: absolute;border-left: 1px solid gray;box-sizing: border-box;top: 0;bottom: 0;left: 50%;z-index: -1;}#sk-container-id-3 div.sk-parallel-item {display: flex;flex-direction: column;z-index: 1;position: relative;background-color: white;}#sk-container-id-3 div.sk-parallel-item:first-child::after {align-self: flex-end;width: 50%;}#sk-container-id-3 div.sk-parallel-item:last-child::after {align-self: flex-start;width: 50%;}#sk-container-id-3 div.sk-parallel-item:only-child::after {width: 0;}#sk-container-id-3 div.sk-dashed-wrapped {border: 1px dashed gray;margin: 0 0.4em 0.5em 0.4em;box-sizing: border-box;padding-bottom: 0.4em;background-color: white;}#sk-container-id-3 div.sk-label label {font-family: monospace;font-weight: bold;display: inline-block;line-height: 1.2em;}#sk-container-id-3 div.sk-label-container {text-align: center;}#sk-container-id-3 div.sk-container {/* jupyter's `normalize.less` sets `[hidden] { display: none; }` but bootstrap.min.css set `[hidden] { display: none !important; }` so we also need the `!important` here to be able to override the default hidden behavior on the sphinx rendered scikit-learn.org. See: https://github.com/scikit-learn/scikit-learn/issues/21755 */display: inline-block !important;position: relative;}#sk-container-id-3 div.sk-text-repr-fallback {display: none;}</style><div id=\"sk-container-id-3\" class=\"sk-top-container\"><div class=\"sk-text-repr-fallback\"><pre>RandomForestClassifier(random_state=30)</pre><b>In a Jupyter environment, please rerun this cell to show the HTML representation or trust the notebook. <br />On GitHub, the HTML representation is unable to render, please try loading this page with nbviewer.org.</b></div><div class=\"sk-container\" hidden><div class=\"sk-item\"><div class=\"sk-estimator sk-toggleable\"><input class=\"sk-toggleable__control sk-hidden--visually\" id=\"sk-estimator-id-3\" type=\"checkbox\" checked><label for=\"sk-estimator-id-3\" class=\"sk-toggleable__label sk-toggleable__label-arrow\">RandomForestClassifier</label><div class=\"sk-toggleable__content\"><pre>RandomForestClassifier(random_state=30)</pre></div></div></div></div></div>"
            ]
          },
          "metadata": {},
          "execution_count": 56
        }
      ]
    },
    {
      "cell_type": "code",
      "source": [
        "accuracy = accuracy_score(y_test, y_pred)\n",
        "print('Accuracy: ', accuracy)\n",
        "print('Classification Report\\n', classification_report(y_test, y_pred, target_names = ['Opinion', 'Claim']))\n",
        "print('Confusion Matrix\\n', confusion_matrix(y_test, y_pred))"
      ],
      "metadata": {
        "colab": {
          "base_uri": "https://localhost:8080/"
        },
        "id": "vSheso3cXifN",
        "outputId": "fc041721-f692-4cc3-9016-149503de3d9c"
      },
      "execution_count": null,
      "outputs": [
        {
          "output_type": "stream",
          "name": "stdout",
          "text": [
            "Accuracy:  0.9989682744389993\n",
            "Classification Report\n",
            "               precision    recall  f1-score   support\n",
            "\n",
            "     Opinion       1.00      1.00      1.00      1924\n",
            "       Claim       1.00      1.00      1.00      1953\n",
            "\n",
            "    accuracy                           1.00      3877\n",
            "   macro avg       1.00      1.00      1.00      3877\n",
            "weighted avg       1.00      1.00      1.00      3877\n",
            "\n",
            "Confusion Matrix\n",
            " [[1924    0]\n",
            " [   4 1949]]\n"
          ]
        }
      ]
    },
    {
      "cell_type": "code",
      "source": [
        "conf_matrix = confusion_matrix(y_test, y_pred)\n",
        "plt.figure(figsize = (8,6))\n",
        "sns.heatmap(conf_matrix, annot = True, fmt = 'd', cmap = 'PiYG', xticklabels = ['Opinion', 'Claim'], yticklabels = ['Opinion', 'Claim'])\n",
        "plt.xlabel('Predicted')\n",
        "plt.ylabel('Actual')\n",
        "plt.title('Confusion Matrix')\n",
        "plt.show()"
      ],
      "metadata": {
        "colab": {
          "base_uri": "https://localhost:8080/",
          "height": 564
        },
        "id": "dxPWB-M7XvSN",
        "outputId": "8762276a-bd7e-4e9a-a4d0-e36074c81f0f"
      },
      "execution_count": null,
      "outputs": [
        {
          "output_type": "display_data",
          "data": {
            "text/plain": [
              "<Figure size 800x600 with 2 Axes>"
            ],
            "image/png": "[encoded data removed]"
          },
          "metadata": {}
        }
      ]
    },
    {
      "cell_type": "markdown",
      "source": [
        "#Interpretations"
      ],
      "metadata": {
        "id": "ZUuY0IQZYwq1"
      }
    },
    {
      "cell_type": "markdown",
      "source": [
        "##Data Cleansing Interpretations"
      ],
      "metadata": {
        "id": "9vVSFHtLZBgG"
      }
    },
    {
      "cell_type": "markdown",
      "source": [
        "- The data set is about whether or not a TikTok video is featuring a `claim` or an `opinion`. Thus, the models to be made later on would be to predict whether or not a video is under `claim` or  `opinion`\n",
        "- Columns or \"factors\" that are not related nor contribute anything to the `claim_status` such as `video_id` and `video_transcription_text` are dropped for a more accurate model performance\n",
        "- columns that present metrics such as the **view, like, share, download, and comment count, and the video duration** are kept as it may shed light as to why the `claim_status` is such for the each respective video. It may also be helpful when assessing the relationship between the variables and how they affect each other. The same can be said for the `author_ban_status_banned`, `author_ban_status_under_review`, and `verified_author_verified` columns.\n",
        "- Null values for the remaining columns were replaced with estimate values. For `claim_status`, the median was used to fill null values, while the metric-based columns were filled using their respective means.\n",
        "- Finally, for a more uniform dataset, `object` data were converted to `bool` to avoid any errors with the training model."
      ],
      "metadata": {
        "id": "uq5ohZC_ZGpN"
      }
    },
    {
      "cell_type": "markdown",
      "source": [
        "##KNN Interpretations"
      ],
      "metadata": {
        "id": "xoQgeESeY0kF"
      }
    },
    {
      "cell_type": "markdown",
      "source": [
        "- The model was assigned a 70-30 split and 80-20 split for the training-testing ratios, however, both yielded similar results.\n",
        "- The model did amazing as, simply put, there are 1.00s accross the board. It did nigh-perfectly in predicting `opinion` videos and perfectly with the `claim videos`\n",
        "- However, the `Confusion Matrix` gives a little more detail as to why the accuracy of the model itself is not 100%. According to the graph, the model predicted 4 entries to be under `opinion` when the actual classification is `claim`. Despite this small mishap, the precision, recall, and f1-score value of `0.0` are all 1.00 as either the mistake seems negligent to the machine or the machine rounded the values up.\n",
        "- The `Confusion Matrix`, aptly named \"Confusion Matrix\", supports the metrics of the KNN by showing the results of the testing. It predicted 1924 `opinion` videos correctly with 4 mistakes but all its `claim` predictions turned out ot be correct\n",
        "- With all these metrics and results in mind, the model ends up with an astounding \"0.998\" or approximately 99% for its `Accuracy`, finishing with a near-perfect performance."
      ],
      "metadata": {
        "id": "LqL3lHgBcixX"
      }
    },
    {
      "cell_type": "markdown",
      "source": [
        "##Random Forest Interpretations"
      ],
      "metadata": {
        "id": "-VRgZYOmfevb"
      }
    },
    {
      "cell_type": "markdown",
      "source": [
        "- The model, from performance to set up, is very similar to the KNN model used. In terms of numbers, the only real difference is in the `Confusion Matrix` with having more testing data for the `claim` than the KNN. Thus, for a more detailed explanation, please refer to the `KNN Interpretations`"
      ],
      "metadata": {
        "id": "IM9VuEoYftuj"
      }
    },
    {
      "cell_type": "markdown",
      "source": [
        "##Conclusion"
      ],
      "metadata": {
        "id": "iwev-baFiBnE"
      }
    },
    {
      "cell_type": "markdown",
      "source": [
        "- In conclusion, both models end up with an approximate 99% accuracy with 1.00s accross all metrics. Thus, we can conclude that the models are highly accurate."
      ],
      "metadata": {
        "id": "GbIrcx7ziLhV"
      }
    }
  ]
}